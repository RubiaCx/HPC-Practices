{
 "cells": [
  {
   "cell_type": "code",
   "execution_count": 8,
   "metadata": {},
   "outputs": [],
   "source": [
    "import math\n",
    "import torch\n",
    "from torch.nn import functional as F\n",
    "from torch.utils.cpp_extension import load\n",
    "import torch.nn as nn\n",
    "import sys\n",
    "import os\n",
    "\n",
    "project_root = os.path.abspath(os.path.join(os.getcwd(), \"../../\"))\n",
    "if project_root not in sys.path:\n",
    "    sys.path.insert(0, project_root)\n",
    "from util.test_util import test_eval"
   ]
  },
  {
   "cell_type": "code",
   "execution_count": 4,
   "metadata": {},
   "outputs": [],
   "source": [
    "batch_size = 1\n",
    "num_head = 12\n",
    "head_embd = 64\n",
    "start_len = 32\n",
    "seq_len = 64\n",
    "\n",
    "\n",
    "q = torch.randn(batch_size, num_head, seq_len, head_embd).cuda()\n",
    "k = torch.zeros(batch_size, num_head, seq_len, head_embd).cuda()\n",
    "v = torch.zeros(batch_size, num_head, seq_len, head_embd).cuda()\n",
    "k[:, :, :start_len, :] = torch.randn(batch_size, num_head, start_len, head_embd, device='cuda')\n",
    "v[:, :, :start_len, :] = torch.randn(batch_size, num_head, start_len, head_embd, device='cuda')"
   ]
  },
  {
   "cell_type": "code",
   "execution_count": 5,
   "metadata": {},
   "outputs": [],
   "source": [
    "def manual_attn(q, k, v):\n",
    "    att = (q @ k.transpose(-2, -1) * (1.0 / math.sqrt(k.size(-1)))) # q 和 k(最后两个维度转置) 的点积，再进行缩放；缩放因子是最后一个维度的平方根，防止点积结果过大，导致梯度消失或爆炸\n",
    "    att = F.softmax(att, dim=-1) # 对注意力权重进行 softmax 归一化\n",
    "    y = att @ v # 使用注意力权重对 v 进行加权求和，得到输出\n",
    "    return y"
   ]
  },
  {
   "cell_type": "code",
   "execution_count": 6,
   "metadata": {},
   "outputs": [
    {
     "name": "stderr",
     "output_type": "stream",
     "text": [
      "/home/chenxi/miniconda3/envs/torch/lib/python3.9/site-packages/torch/utils/cpp_extension.py:1965: UserWarning: TORCH_CUDA_ARCH_LIST is not set, all archs for visible cards are included for compilation. \n",
      "If this is not desired, please set os.environ['TORCH_CUDA_ARCH_LIST'].\n",
      "  warnings.warn(\n"
     ]
    }
   ],
   "source": [
    "flash_attn_manual = load(\n",
    "    name='flash_attn_manual', \n",
    "    sources=['flash_attention.cu'], \n",
    "    extra_cuda_cflags=['-O2'])"
   ]
  },
  {
   "cell_type": "code",
   "execution_count": 9,
   "metadata": {},
   "outputs": [],
   "source": [
    "inputs = (q, k.clone(), v.clone())"
   ]
  },
  {
   "cell_type": "code",
   "execution_count": 10,
   "metadata": {},
   "outputs": [
    {
     "name": "stdout",
     "output_type": "stream",
     "text": [
      "=== Profiling Basic Attention ===\n",
      "\u001b[31m100 iters, min = 0.0796 ms, max = 0.0999 ms, avg = 0.0820 ms\u001b[m\n"
     ]
    }
   ],
   "source": [
    "print(\"=== Profiling Basic Attention ===\")\n",
    "test_eval(manual_attn, inputs)"
   ]
  },
  {
   "cell_type": "code",
   "execution_count": 11,
   "metadata": {},
   "outputs": [
    {
     "name": "stdout",
     "output_type": "stream",
     "text": [
      "=== Profiling Flash Attention CUDA ===\n",
      "Max shared memory: 49152, requested shared memory: 28672 \\nMax shared memory: 49152, requested shared memory: 28672 \\nMax shared memory: 49152, requested shared memory: 28672 \\nMax shared memory: 49152, requested shared memory: 28672 \\nMax shared memory: 49152, requested shared memory: 28672 \\nMax shared memory: 49152, requested shared memory: 28672 \\nMax shared memory: 49152, requested shared memory: 28672 \\nMax shared memory: 49152, requested shared memory: 28672 \\nMax shared memory: 49152, requested shared memory: 28672 \\nMax shared memory: 49152, requested shared memory: 28672 \\nMax shared memory: 49152, requested shared memory: 28672 \\nMax shared memory: 49152, requested shared memory: 28672 \\nMax shared memory: 49152, requested shared memory: 28672 \\nMax shared memory: 49152, requested shared memory: 28672 \\nMax shared memory: 49152, requested shared memory: 28672 \\nMax shared memory: 49152, requested shared memory: 28672 \\nMax shared memory: 49152, requested shared memory: 28672 \\nMax shared memory: 49152, requested shared memory: 28672 \\nMax shared memory: 49152, requested shared memory: 28672 \\nMax shared memory: 49152, requested shared memory: 28672 \\nMax shared memory: 49152, requested shared memory: 28672 \\nMax shared memory: 49152, requested shared memory: 28672 \\nMax shared memory: 49152, requested shared memory: 28672 \\nMax shared memory: 49152, requested shared memory: 28672 \\nMax shared memory: 49152, requested shared memory: 28672 \\nMax shared memory: 49152, requested shared memory: 28672 \\nMax shared memory: 49152, requested shared memory: 28672 \\nMax shared memory: 49152, requested shared memory: 28672 \\nMax shared memory: 49152, requested shared memory: 28672 \\nMax shared memory: 49152, requested shared memory: 28672 \\nMax shared memory: 49152, requested shared memory: 28672 \\nMax shared memory: 49152, requested shared memory: 28672 \\nMax shared memory: 49152, requested shared memory: 28672 \\nMax shared memory: 49152, requested shared memory: 28672 \\nMax shared memory: 49152, requested shared memory: 28672 \\nMax shared memory: 49152, requested shared memory: 28672 \\nMax shared memory: 49152, requested shared memory: 28672 \\nMax shared memory: 49152, requested shared memory: 28672 \\nMax shared memory: 49152, requested shared memory: 28672 \\nMax shared memory: 49152, requested shared memory: 28672 \\nMax shared memory: 49152, requested shared memory: 28672 \\nMax shared memory: 49152, requested shared memory: 28672 \\nMax shared memory: 49152, requested shared memory: 28672 \\nMax shared memory: 49152, requested shared memory: 28672 \\nMax shared memory: 49152, requested shared memory: 28672 \\nMax shared memory: 49152, requested shared memory: 28672 \\nMax shared memory: 49152, requested shared memory: 28672 \\nMax shared memory: 49152, requested shared memory: 28672 \\nMax shared memory: 49152, requested shared memory: 28672 \\nMax shared memory: 49152, requested shared memory: 28672 \\nMax shared memory: 49152, requested shared memory: 28672 \\nMax shared memory: 49152, requested shared memory: 28672 \\nMax shared memory: 49152, requested shared memory: 28672 \\nMax shared memory: 49152, requested shared memory: 28672 \\nMax shared memory: 49152, requested shared memory: 28672 \\nMax shared memory: 49152, requested shared memory: 28672 \\nMax shared memory: 49152, requested shared memory: 28672 \\nMax shared memory: 49152, requested shared memory: 28672 \\nMax shared memory: 49152, requested shared memory: 28672 \\nMax shared memory: 49152, requested shared memory: 28672 \\nMax shared memory: 49152, requested shared memory: 28672 \\nMax shared memory: 49152, requested shared memory: 28672 \\nMax shared memory: 49152, requested shared memory: 28672 \\nMax shared memory: 49152, requested shared memory: 28672 \\nMax shared memory: 49152, requested shared memory: 28672 \\nMax shared memory: 49152, requested shared memory: 28672 \\nMax shared memory: 49152, requested shared memory: 28672 \\nMax shared memory: 49152, requested shared memory: 28672 \\nMax shared memory: 49152, requested shared memory: 28672 \\nMax shared memory: 49152, requested shared memory: 28672 \\nMax shared memory: 49152, requested shared memory: 28672 \\nMax shared memory: 49152, requested shared memory: 28672 \\nMax shared memory: 49152, requested shared memory: 28672 \\nMax shared memory: 49152, requested shared memory: 28672 \\nMax shared memory: 49152, requested shared memory: 28672 \\nMax shared memory: 49152, requested shared memory: 28672 \\nMax shared memory: 49152, requested shared memory: 28672 \\nMax shared memory: 49152, requested shared memory: 28672 \\nMax shared memory: 49152, requested shared memory: 28672 \\nMax shared memory: 49152, requested shared memory: 28672 \\nMax shared memory: 49152, requested shared memory: 28672 \\nMax shared memory: 49152, requested shared memory: 28672 \\nMax shared memory: 49152, requested shared memory: 28672 \\nMax shared memory: 49152, requested shared memory: 28672 \\nMax shared memory: 49152, requested shared memory: 28672 \\nMax shared memory: 49152, requested shared memory: 28672 \\nMax shared memory: 49152, requested shared memory: 28672 \\nMax shared memory: 49152, requested shared memory: 28672 \\nMax shared memory: 49152, requested shared memory: 28672 \\nMax shared memory: 49152, requested shared memory: 28672 \\nMax shared memory: 49152, requested shared memory: 28672 \\nMax shared memory: 49152, requested shared memory: 28672 \\nMax shared memory: 49152, requested shared memory: 28672 \\nMax shared memory: 49152, requested shared memory: 28672 \\nMax shared memory: 49152, requested shared memory: 28672 \\nMax shared memory: 49152, requested shared memory: 28672 \\nMax shared memory: 49152, requested shared memory: 28672 \\nMax shared memory: 49152, requested shared memory: 28672 \\nMax shared memory: 49152, requested shared memory: 28672 \\nMax shared memory: 49152, requested shared memory: 28672 \\nMax shared memory: 49152, requested shared memory: 28672 \\nMax shared memory: 49152, requested shared memory: 28672 \\nMax shared memory: 49152, requested shared memory: 28672 \\nMax shared memory: 49152, requested shared memory: 28672 \\nMax shared memory: 49152, requested shared memory: 28672 \\n\u001b[31m100 iters, min = 1.1833 ms, max = 1.3433 ms, avg = 1.1913 ms\u001b[m\n"
     ]
    }
   ],
   "source": [
    "print(\"=== Profiling Flash Attention CUDA ===\")\n",
    "test_eval(flash_attn_manual.forward, inputs)"
   ]
  }
 ],
 "metadata": {
  "kernelspec": {
   "display_name": "torch",
   "language": "python",
   "name": "python3"
  },
  "language_info": {
   "codemirror_mode": {
    "name": "ipython",
    "version": 3
   },
   "file_extension": ".py",
   "mimetype": "text/x-python",
   "name": "python",
   "nbconvert_exporter": "python",
   "pygments_lexer": "ipython3",
   "version": "3.9.19"
  }
 },
 "nbformat": 4,
 "nbformat_minor": 2
}
